{
 "cells": [
  {
   "cell_type": "markdown",
   "id": "44643e30",
   "metadata": {},
   "source": [
    "# Libraries Used"
   ]
  },
  {
   "cell_type": "code",
   "execution_count": 1,
   "id": "feb0972d",
   "metadata": {},
   "outputs": [],
   "source": [
    "from faker import Faker  \n",
    "import random\n",
    "import pandas as pd\n",
    "import os\n",
    "import matplotlib.pyplot as plt\n",
    "from sklearn.cluster import KMeans\n",
    "import math\n",
    "from sklearn.preprocessing import LabelEncoder\n",
    "import numpy as np\n",
    "import tkinter as tk\n",
    "from tkinter import simpledialog\n"
   ]
  },
  {
   "cell_type": "markdown",
   "id": "84eb2bbc",
   "metadata": {},
   "source": [
    "# Generating Data"
   ]
  },
  {
   "cell_type": "code",
   "execution_count": 2,
   "id": "49d16b45",
   "metadata": {},
   "outputs": [],
   "source": [
    "def generate_student_data(num_students):\n",
    "    fake = Faker()\n",
    "    data = []\n",
    "    for _ in range(num_students):\n",
    "        roll_no = fake.unique.random_int(min=1000, max=9999)  \n",
    "        name = fake.name()\n",
    "        batch = fake.random_int(min=2019, max=2023)      \n",
    "        domain = random.choice(['Computer Science', 'Electrical Engineering', 'Artificial Intelligence', 'Business Analytics', 'Software Engineering'])  # Sample domains\n",
    "        data.append({'Roll No': roll_no, 'Name': name, 'Batch': batch, 'Domain': domain})\n",
    "    return data\n",
    "\n",
    "def generate_faculty_data(num_faculty):\n",
    "    fake = Faker()\n",
    "    data = []\n",
    "    for _ in range(num_faculty):\n",
    "        fac_id = fake.unique.random_int(min=100, max=999)  \n",
    "        name = fake.name()\n",
    "        domain = random.choice(['Computer Science', 'Electrical Engineering', 'Artificial Intelligence', 'Business Analytics', 'Software Engineering'])  # Sample domains\n",
    "        data.append({'Faculty ID': fac_id, 'Name': name, 'Domain': domain})\n",
    "    return data\n",
    "\n",
    "def generate_room_data(num_room):\n",
    "    fake = Faker()\n",
    "    data = []\n",
    "    for _ in range(num_room):\n",
    "        room_id = fake.unique.random_int(min=1, max=30)  \n",
    "        capacity = random.choice([30, 35, 25])\n",
    "        data.append({'Room ID': room_id,'Capacity': capacity})\n",
    "    return data\n"
   ]
  },
  {
   "cell_type": "markdown",
   "id": "5d3fbbc5",
   "metadata": {},
   "source": [
    "# Writing the Randomly Generated Data into File using Pandas DataFrames"
   ]
  },
  {
   "cell_type": "code",
   "execution_count": 3,
   "id": "5d3fbbc5",
   "metadata": {},
   "outputs": [],
   "source": [
    "def writeRandomlyGeneratedData(students_data,faculty_data,room_data):\n",
    "    directory = 'C:\\\\Users\\\\admin\\\\OneDrive\\\\Desktop\\\\AI Project'  # Specify the directory where you want to save the file\n",
    "\n",
    "# Ensure that the directory exists, create it if it doesn't\n",
    "    if not os.path.exists(directory):\n",
    "        os.makedirs(directory)\n",
    "    \n",
    "#write the names of the files you want to create   \n",
    "    filename1 = 'Stu_data.csv'\n",
    "    filename2 = 'Fac_data.csv'\n",
    "    filename3 = 'Room_data.csv'\n",
    "    filename4 = 'Seating_Plan.csv' \n",
    "  \n",
    "# Combine directory and filename to create the full paths\n",
    "    full_path1 = directory + '\\\\' + filename1\n",
    "    full_path2 = directory + '\\\\' + filename2\n",
    "    full_path3 = directory + '\\\\' + filename3\n",
    "    full_path4 = directory + '\\\\' + filename4\n",
    "\n",
    "    header=['Roll No', 'Name', 'Batch', 'Domain']\n",
    "    stu_data = pd.DataFrame(students_data, columns=header)  #write students data into file\n",
    "    stu_data.to_csv(full_path1, index=False)\n",
    "\n",
    "    header=['Faculty ID', 'Name', 'Domain']\n",
    "    fac_data = pd.DataFrame(faculty_data, columns=header)  #write faculty data into file\n",
    "    fac_data.to_csv(full_path2, index=False)\n",
    "\n",
    "    header=['Room ID','Capacity']\n",
    "    rm_data = pd.DataFrame(room_data, columns=header)  #write room data into file\n",
    "    rm_data.to_csv(full_path3, index=False)\n",
    "    \n",
    "    return full_path1,full_path2,full_path3,full_path4"
   ]
  },
  {
   "cell_type": "markdown",
   "id": "10f2963a",
   "metadata": {},
   "source": [
    "# Reading the Data from the above created files using Pandas"
   ]
  },
  {
   "cell_type": "code",
   "execution_count": 4,
   "id": "88367f71",
   "metadata": {},
   "outputs": [],
   "source": [
    "def readDataFromFiles(full_path1,full_path2,full_path3):\n",
    "    stu_data = pd.read_csv(full_path1)  #student data\n",
    "    fac_data = pd.read_csv(full_path2)  #faculty data\n",
    "    room_data = pd.read_csv(full_path3) #room data\n",
    "    return stu_data,fac_data,room_data"
   ]
  },
  {
   "cell_type": "markdown",
   "id": "8c8665c8",
   "metadata": {},
   "source": [
    "# Pre-Processing of the Data"
   ]
  },
  {
   "cell_type": "code",
   "execution_count": 5,
   "id": "7f298608",
   "metadata": {},
   "outputs": [],
   "source": [
    "def preProcessData(stu_data):\n",
    "    stu_data = stu_data.dropna()\n",
    "\n",
    "    label_encoder = LabelEncoder()  # Create a LabelEncoder object\n",
    "\n",
    "    stu_data['Domain_LabelEncoded'] = label_encoder.fit_transform(stu_data['Domain'])  # Apply Label Encoding to a categorical column \"Domain\"-(0,1,2,3,4)\n",
    "\n",
    "    features = stu_data.groupby(['Domain_LabelEncoded', 'Batch']).size().reset_index(name='Num_Students')  #featuring/grouping the data for \"No.of students\" from each domain and batch\n",
    "    \n",
    "    return stu_data,features\n"
   ]
  },
  {
   "cell_type": "markdown",
   "id": "a050019e",
   "metadata": {},
   "source": [
    "# Using Elbow Method For optimal no. of clusters"
   ]
  },
  {
   "cell_type": "code",
   "execution_count": 6,
   "id": "19bdfd11",
   "metadata": {},
   "outputs": [],
   "source": [
    "def elbowMethod(features):\n",
    "#using elbow method\n",
    "    wcss = []\n",
    "    for i in range(1, 11):\n",
    "        k_means = KMeans(n_clusters=i, n_init=\"auto\")\n",
    "        k_means.fit(features[['Domain_LabelEncoded','Batch']])  #Determine the optimal number of clusters based on domain and batch distribution\n",
    "        wcss.append(k_means.inertia_)\n",
    "        \n",
    "    plt.plot(range(1, 11), wcss)\n",
    "    plt.title('Elbow Method for Optimal Number of Clusters')\n",
    "    plt.xlabel('Number of Clusters')\n",
    "    plt.ylabel('Sum of Squared Distances')\n",
    "    plt.show()"
   ]
  },
  {
   "cell_type": "markdown",
   "id": "9a223d30",
   "metadata": {},
   "source": [
    "# Making Clusters based on the optimal no. of clusters from Elbow Method"
   ]
  },
  {
   "cell_type": "code",
   "execution_count": 7,
   "id": "cb6fd406",
   "metadata": {
    "scrolled": true
   },
   "outputs": [],
   "source": [
    "\n",
    "def makeOptimalClusters(features,optimal_k=4):\n",
    "    kmeans = KMeans(n_clusters=optimal_k)\n",
    "    kmeans.fit(features[['Domain_LabelEncoded','Batch']])\n",
    "\n",
    "# Get cluster labels and centroids\n",
    "    cluster_labels = kmeans.labels_\n",
    "    centroids = kmeans.cluster_centers_\n",
    "# Add cluster labels to the features DataFrame\n",
    "    features['Cluster_Labels'] = cluster_labels \n",
    "    \n",
    "    point_size = 15\n",
    "    colors = ['red', 'green', 'blue', 'yellow'] \n",
    "    print(\"x are centroids\")\n",
    "    for i in range(optimal_k):\n",
    "        print(f'Cluster {i}: {colors[i]}')    \n",
    "    print(\"\\n\",features)\n",
    "\n",
    "# Plot centroids\n",
    "    for cluster_label in range(optimal_k):\n",
    "        cluster_centroid = centroids[cluster_label]\n",
    "        plt.scatter(cluster_centroid[0], cluster_centroid[1], color=colors[cluster_label], marker='x')\n",
    "\n",
    "# Plot each cluster\n",
    "    for cluster_label in range(optimal_k): \n",
    "        cluster_points = features[features['Cluster_Labels'] == cluster_label]\n",
    "        for index, row in cluster_points.iterrows():\n",
    "            plt.scatter(row['Domain_LabelEncoded'], row['Batch'], c=colors[cluster_label])\n",
    "\n",
    "    plt.xlabel('Domain Label Encoded')\n",
    "    plt.ylabel('Batch')\n",
    "    plt.title('K-Means Clustering')\n",
    "    plt.show()\n",
    "    return  features\n"
   ]
  },
  {
   "cell_type": "markdown",
   "id": "ce55e0fe",
   "metadata": {},
   "source": [
    "# Assigning Each student to their respective Clusters"
   ]
  },
  {
   "cell_type": "code",
   "execution_count": 8,
   "id": "a0296a36",
   "metadata": {},
   "outputs": [],
   "source": [
    "def assignClustersToStudents(stu_data,features):\n",
    "    for index, row in features.iterrows():\n",
    "        domain_label = row['Domain_LabelEncoded']\n",
    "        batch = row['Batch']\n",
    "        cluster_label = row['Cluster_Labels']\n",
    "    \n",
    "    # Filter students DataFrame based on domain label and batch\n",
    "        filtered_students = stu_data[(stu_data['Domain_LabelEncoded'] == domain_label) & (stu_data['Batch'] == batch)]\n",
    "    \n",
    "    # Update the cluster label for filtered students\n",
    "        stu_data.loc[filtered_students.index, 'Cluster_Labels'] = cluster_label\n",
    "        \n",
    "    return stu_data\n"
   ]
  },
  {
   "cell_type": "markdown",
   "id": "17816e65",
   "metadata": {},
   "source": [
    "# Asking For the Courses (Batchwise) to generate seating plan"
   ]
  },
  {
   "cell_type": "code",
   "execution_count": 9,
   "id": "4d15a187",
   "metadata": {},
   "outputs": [],
   "source": [
    "# courses = {}\n",
    "\n",
    "# # Loop to collect course names for each batch and domain combination\n",
    "# for year in range(2019, 2024):\n",
    "#     for domain in ['Artificial Intelligence', 'Business Analytics', 'Software Engineering', 'Computer Science', 'Electrical Engineering']:\n",
    "#         course_name = input(\"Enter the course name for Batch-\" + str(year) + \"-\" + domain + \": \")\n",
    "#         courses[(year, domain)] = course_name\n",
    "\n",
    "def addCourseInfo(stu_data):\n",
    "    courses = {\n",
    "        (2019, 'Artificial Intelligence'): 'Linear Algebra',\n",
    "        (2019, 'Business Analytics'): 'Statistics',\n",
    "        (2019, 'Software Engineering'): 'Software Design',\n",
    "        (2019, 'Computer Science'): 'Operating Systems',\n",
    "        (2019, 'Electrical Engineering'): 'Digital Logic Design',\n",
    "        (2020, 'Artificial Intelligence'): 'Probability',\n",
    "        (2020, 'Business Analytics'): 'Business Maths',\n",
    "        (2020, 'Software Engineering'): 'Statistics',\n",
    "        (2020, 'Computer Science'): 'Theory of Automata',\n",
    "        (2020, 'Electrical Engineering'): 'Signals',\n",
    "        (2021, 'Artificial Intelligence'): 'Graph Theory',\n",
    "        (2021, 'Business Analytics'): 'Marketing',\n",
    "        (2021, 'Software Engineering'): 'Entrepreneurship',\n",
    "        (2021, 'Computer Science'): 'Algorithms',\n",
    "        (2021, 'Electrical Engineering'): 'Circuits',\n",
    "        (2022, 'Artificial Intelligence'): 'Marketing',\n",
    "        (2022, 'Business Analytics'): 'Theory of Automata',\n",
    "        (2022, 'Software Engineering'): 'Database Systems',\n",
    "        (2022, 'Computer Science'): 'Gaming',\n",
    "        (2022, 'Electrical Engineering'): 'Web Development',\n",
    "        (2023, 'Artificial Intelligence'): 'Calculus',\n",
    "        (2023, 'Business Analytics'): 'Strategies',\n",
    "        (2023, 'Software Engineering'): 'Documentation',\n",
    "        (2023, 'Computer Science'): 'Web Development',\n",
    "        (2023, 'Electrical Engineering'): 'Statistics'\n",
    "    }\n",
    "    stu_data['Course'] = \"\"   # Add 'Course' column to student data\n",
    "    for index, row in stu_data.iterrows():   # Update student data with the course information\n",
    "        batch = row['Batch']\n",
    "        domain = row['Domain']\n",
    "        for key, value in courses.items():\n",
    "            if key == (batch, domain):\n",
    "                stu_data.at[index, 'Course'] = value\n",
    "                break\n",
    "        else:\n",
    "            stu_data.at[index, 'Course'] = \"Unknown\"\n",
    "            \n",
    "    return stu_data"
   ]
  },
  {
   "cell_type": "markdown",
   "id": "c548b0cc",
   "metadata": {},
   "source": [
    "# Assigning Rooms To the Students While keeping the optimization in view"
   ]
  },
  {
   "cell_type": "code",
   "execution_count": 10,
   "id": "510f66a2",
   "metadata": {
    "scrolled": true
   },
   "outputs": [],
   "source": [
    "def morning_rooms_assigned(students, rooms):\n",
    "    students = students.copy()\n",
    "    rooms = rooms.copy()\n",
    "    # Add columns to students DataFrame\n",
    "    students['Assigned_Room'] = \"\"  \n",
    "    students['Timing'] = \"\"  \n",
    "    \n",
    "    assigned_rooms = {}  \n",
    "    for cluster_label in students['Cluster_Labels'].unique():  # Iterate over unique cluster labels\n",
    "        cluster_students = students[students['Cluster_Labels'] == cluster_label]  # Filter students by cluster\n",
    "        \n",
    "        for domain_label in cluster_students['Domain_LabelEncoded'].unique():  # Iterate over unique domain labels within the cluster\n",
    "            domain_students = cluster_students[cluster_students['Domain_LabelEncoded'] == domain_label]  # Filter students by domain\n",
    "            \n",
    "            for _, student in domain_students.iterrows():\n",
    "                available_rooms = rooms[rooms['Capacity'] > 0]              # Filter rooms by capacity\n",
    "                \n",
    "                if not available_rooms.empty:                  # Sort available rooms by capacity (ascending) to optimize seating arrangements\n",
    "                    available_rooms = available_rooms.sort_values(by='Capacity')\n",
    "                    \n",
    "                    # Assign the student to the room with the lowest remaining capacity so gradually the rooms will get filled\n",
    "                    assigned_room = available_rooms.iloc[0]  \n",
    "                    room_id = assigned_room['Room ID']\n",
    "                    \n",
    "                    # Update student's Assigned_Room and Timing\n",
    "                    students.loc[students['Roll No'] == student['Roll No'], 'Assigned_Room'] = room_id\n",
    "                    students.loc[students['Roll No'] == student['Roll No'], 'Timing'] = 'Morning'\n",
    "\n",
    "                    # Decrement the room capacity\n",
    "                    rooms.loc[rooms['Room ID'] == room_id, 'Capacity'] -= 1\n",
    "                else:\n",
    "                    # If no room is available, update Assigned_Room to False and Timing to 'Not Assigned'\n",
    "                    students.loc[students['Roll No'] == student['Roll No'], 'Assigned_Room'] = False\n",
    "                    students.loc[students['Roll No'] == student['Roll No'], 'Timing'] = 'Not Assigned'\n",
    "                \n",
    "    return students\n"
   ]
  },
  {
   "cell_type": "code",
   "execution_count": 11,
   "id": "83769a60",
   "metadata": {},
   "outputs": [],
   "source": [
    "def afterNoon_room_assigned(students, rooms):\n",
    "    students = students.copy()\n",
    "    rooms = rooms.copy()\n",
    "    \n",
    "    # Filter students who were not assigned rooms during the morning session\n",
    "    unassigned_students = students[(students['Assigned_Room'] == False) & (students['Timing'] == 'Not Assigned')]\n",
    "    \n",
    "    # Iterate over clusters\n",
    "    for cluster_label in unassigned_students['Cluster_Labels'].unique():\n",
    "        cluster_students = unassigned_students[unassigned_students['Cluster_Labels'] == cluster_label] \n",
    "        \n",
    "        # Within each cluster, iterate over unique domain labels\n",
    "        for domain_label in cluster_students['Domain_LabelEncoded'].unique():\n",
    "            domain_students = cluster_students[cluster_students['Domain_LabelEncoded'] == domain_label]  # Filter students by domain\n",
    "            \n",
    "            for _, student in domain_students.iterrows():\n",
    "                available_rooms = rooms[rooms['Capacity'] > 0]  # Filter rooms by capacity\n",
    "                \n",
    "                if not available_rooms.empty:                  # Sort available rooms by capacity (ascending) to optimize seating arrangements\n",
    "                    available_rooms = available_rooms.sort_values(by='Capacity')\n",
    "                    \n",
    "                    # Assign the student to the room with the lowest remaining capacity so gradually the rooms will get filled\n",
    "                    assigned_room = available_rooms.iloc[0]  \n",
    "                    room_id = assigned_room['Room ID']\n",
    "                    \n",
    "                    # Update student's Assigned_Room and Timing\n",
    "                    students.loc[students['Roll No'] == student['Roll No'], 'Assigned_Room'] = room_id\n",
    "                    students.loc[students['Roll No'] == student['Roll No'], 'Timing'] = 'After Noon'\n",
    "\n",
    "                    # Decrement the room capacity\n",
    "                    rooms.loc[rooms['Room ID'] == room_id, 'Capacity'] -= 1\n",
    "                else:\n",
    "                    # If no room is available, update Assigned_Room to False and Timing to 'Not Assigned'\n",
    "                    students.loc[students['Roll No'] == student['Roll No'], 'Assigned_Room'] = False\n",
    "                    students.loc[students['Roll No'] == student['Roll No'], 'Timing'] = 'Not Assigned'\n",
    "                \n",
    "            \n",
    "    return students  # Return the modified DataFrame\n"
   ]
  },
  {
   "cell_type": "code",
   "execution_count": 12,
   "id": "1bf6faa9",
   "metadata": {},
   "outputs": [],
   "source": [
    "def evening_room_assigned(students, rooms):\n",
    "    students = students.copy()\n",
    "    rooms = rooms.copy()\n",
    "    unassigned_students = students[(students['Assigned_Room'] == False) & (students['Timing'] == 'Not Assigned')]      # Filter students who were not assigned rooms during the morning session    \n",
    "    # Iterate over clusters\n",
    "    for cluster_label in unassigned_students['Cluster_Labels'].unique():\n",
    "        cluster_students = unassigned_students[unassigned_students['Cluster_Labels'] == cluster_label]         \n",
    "        # Within each cluster, iterate over unique domain labels\n",
    "        for domain_label in cluster_students['Domain_LabelEncoded'].unique():\n",
    "            domain_students = cluster_students[cluster_students['Domain_LabelEncoded'] == domain_label]  # Filter students by domain\n",
    "            \n",
    "            for _, student in domain_students.iterrows():\n",
    "                available_rooms = rooms[rooms['Capacity'] > 0]  # Filter rooms by capacity\n",
    "                \n",
    "                if not available_rooms.empty:                  # Sort available rooms by capacity (ascending) to optimize seating arrangements\n",
    "                    available_rooms = available_rooms.sort_values(by='Capacity')\n",
    "                    \n",
    "                    # Assign the student to the room with the lowest remaining capacity so gradually the rooms will get filled\n",
    "                    assigned_room = available_rooms.iloc[0]  \n",
    "                    room_id = assigned_room['Room ID']\n",
    "                    \n",
    "                    # Update student's Assigned_Room and Timing\n",
    "                    students.loc[students['Roll No'] == student['Roll No'], 'Assigned_Room'] = room_id\n",
    "                    students.loc[students['Roll No'] == student['Roll No'], 'Timing'] = 'Evening'\n",
    "\n",
    "                    rooms.loc[rooms['Room ID'] == room_id, 'Capacity'] -= 1                      # Decrement the room capacity\n",
    "                else:\n",
    "                    # If no room is available, update Assigned_Room to False and Timing to 'Not Assigned'\n",
    "                    students.loc[students['Roll No'] == student['Roll No'], 'Assigned_Room'] = False\n",
    "                    students.loc[students['Roll No'] == student['Roll No'], 'Timing'] = 'Not Assigned'\n",
    "                \n",
    "            \n",
    "    return students  # Return the modified DataFrame\n"
   ]
  },
  {
   "cell_type": "code",
   "execution_count": 13,
   "id": "72f50019",
   "metadata": {},
   "outputs": [],
   "source": [
    "# First, assign morning rooms\n",
    "def StudentsRoomAssignment(stu_data,room_data):\n",
    "    assigned_students_morning = morning_rooms_assigned(stu_data, room_data)\n",
    "   \n",
    "# Then, assign after-noon rooms for unassigned students\n",
    "    assigned_students_afterNoon = afterNoon_room_assigned(assigned_students_morning, room_data)\n",
    "\n",
    "# Then, assign evening rooms for unassigned students\n",
    "    assigned_students_evening = evening_room_assigned(assigned_students_afterNoon, room_data)\n",
    "    \n",
    "    return assigned_students_morning,assigned_students_afterNoon,assigned_students_evening\n"
   ]
  },
  {
   "cell_type": "markdown",
   "id": "87266f9e",
   "metadata": {},
   "source": [
    "Generating Seating Plan for Students "
   ]
  },
  {
   "cell_type": "code",
   "execution_count": 14,
   "id": "74d59970",
   "metadata": {},
   "outputs": [],
   "source": [
    "def seatingPlanForStudents(assigned_students_evening,filename4):\n",
    "    seating_plan = pd.DataFrame({\n",
    "        'Roll No': assigned_students_evening['Roll No'],\n",
    "        'Name': assigned_students_evening['Name'],\n",
    "        'Domain': assigned_students_evening['Domain'],\n",
    "        'Batch': assigned_students_evening['Batch'],\n",
    "        'Course': assigned_students_evening['Course'],\n",
    "        'Assigned_Room': assigned_students_evening['Assigned_Room'],\n",
    "        'Timing': assigned_students_evening['Timing'],\n",
    "    })\n",
    "    seating_plan.to_csv(filename4, index=False)"
   ]
  },
  {
   "cell_type": "markdown",
   "id": "292f851c",
   "metadata": {
    "scrolled": true
   },
   "source": [
    "# Assigning Faculty to the rooms keeping in view the related domains \n"
   ]
  },
  {
   "cell_type": "code",
   "execution_count": 15,
   "id": "a054e62b",
   "metadata": {},
   "outputs": [],
   "source": [
    "def assign_faculty_to_rooms(room_data, faculty_data, allocated_faculty):\n",
    "    room_faculty = set()\n",
    "    unique_domains = room_data['Domain'].unique()  # Get unique domains present in the room\n",
    "\n",
    "    for domain in unique_domains:  # Iterate over unique domains in the room\n",
    "        faculty_assigned = False  # Flag to check if faculty for domain has been assigned\n",
    "        \n",
    "        for _, fac_info in faculty_data.iterrows():  # Iterate over faculty data\n",
    "            if fac_info['Domain'] == domain:\n",
    "                faculty_id = fac_info['Faculty ID']\n",
    "                \n",
    "                # Check if any faculty is already assigned for this room and timing\n",
    "                if (room_data['Assigned_Room'].iloc[0], room_data['Timing'].iloc[0]) in allocated_faculty.values():\n",
    "                    continue  # Skip if any faculty is already assigned to this room and timing\n",
    "                \n",
    "                # Check if faculty is already assigned to another room at the same timing\n",
    "                if faculty_id in allocated_faculty.values():\n",
    "                    continue  # Skip this faculty if already assigned to another room at the same timing\n",
    "                \n",
    "                room_faculty.add(faculty_id)\n",
    "                \n",
    "                # Assign faculty to the room and timing\n",
    "                allocated_faculty[(room_data['Assigned_Room'].iloc[0], room_data['Timing'].iloc[0], domain)] = faculty_id\n",
    "                faculty_assigned = True\n",
    "                break\n",
    "\n",
    "        if not faculty_assigned:\n",
    "            print(f\"No faculty member found for domain {domain} in room {room_data['Assigned_Room'].iloc[0]}\")\n",
    "\n",
    "    return allocated_faculty  # Return the modified allocated_faculty dictionary"
   ]
  },
  {
   "cell_type": "code",
   "execution_count": 16,
   "id": "77f57c03",
   "metadata": {
    "scrolled": true
   },
   "outputs": [],
   "source": [
    "def seatingPlanForFaculty(fac_data):\n",
    "    seating_plan_df = pd.read_csv(\"Seating_Plan.csv\")\n",
    "\n",
    "#(i'll use this to check same faculty members should not be assigned to differnet rooms in same time slot)\n",
    "\n",
    "    morning_rooms_grouped = seating_plan_df[seating_plan_df['Timing'] == 'Morning'].groupby('Assigned_Room')\n",
    "\n",
    "    afternoon_rooms_grouped = seating_plan_df[seating_plan_df['Timing'] == 'After Noon'].groupby('Assigned_Room')\n",
    "\n",
    "    evening_rooms_grouped = seating_plan_df[seating_plan_df['Timing'] == 'Evening'].groupby('Assigned_Room')\n",
    "\n",
    "# Initialize allocated_faculty dictionary\n",
    "    allocated_faculty = {}\n",
    "\n",
    "# Assign faculty for morning sessions \n",
    "    for room_id, room_data in morning_rooms_grouped:\n",
    "        allocated_faculty = assign_faculty_to_rooms(room_data, fac_data, allocated_faculty)\n",
    "\n",
    "# Assign faculty for afternoon sessions\n",
    "    for room_id, room_data in afternoon_rooms_grouped:\n",
    "        allocated_faculty = assign_faculty_to_rooms(room_data, fac_data, allocated_faculty)\n",
    "    \n",
    "# Assign faculty for evening sessions\n",
    "    for room_id, room_data in evening_rooms_grouped:\n",
    "        allocated_faculty = assign_faculty_to_rooms(room_data, fac_data, allocated_faculty)\n",
    "    \n",
    "    return allocated_faculty"
   ]
  },
  {
   "cell_type": "code",
   "execution_count": 17,
   "id": "dc156d42",
   "metadata": {},
   "outputs": [],
   "source": [
    "def generateFacultyPlan(allocated_faculty):\n",
    "# Convert allocated_faculty dictionary to a list of tuples\n",
    "    assigned_faculty_data = [(room_info[0], room_info[1], room_info[2], faculty_id) for room_info, faculty_id in allocated_faculty.items()]\n",
    "\n",
    "# Create DataFrame from the list of tuples\n",
    "    assigned_faculty_df = pd.DataFrame(assigned_faculty_data, columns=['Room_ID', 'Timing', 'Domain', 'Faculty_ID'])\n",
    "\n",
    "# Save the DataFrame to a CSV file\n",
    "    assigned_faculty_df.to_csv('faculty_assignments.csv', index=False)\n",
    "\n"
   ]
  },
  {
   "cell_type": "code",
   "execution_count": 18,
   "id": "3ade8043",
   "metadata": {},
   "outputs": [
    {
     "data": {
      "image/png": "[encoded data removed]",
      "text/plain": [
       "<Figure size 640x480 with 1 Axes>"
      ]
     },
     "metadata": {},
     "output_type": "display_data"
    },
    {
     "name": "stdout",
     "output_type": "stream",
     "text": [
      "x are centroids\n",
      "Cluster 0: red\n",
      "Cluster 1: green\n",
      "Cluster 2: blue\n",
      "Cluster 3: yellow\n",
      "\n",
      "     Domain_LabelEncoded  Batch  Num_Students  Cluster_Labels\n",
      "0                     0   2019           109               0\n",
      "1                     0   2020            98               0\n",
      "2                     0   2021           106               0\n",
      "3                     0   2022            81               1\n",
      "4                     0   2023           103               1\n",
      "5                     1   2019           100               0\n",
      "6                     1   2020            87               0\n",
      "7                     1   2021           103               0\n",
      "8                     1   2022            93               1\n",
      "9                     1   2023            95               1\n",
      "10                    2   2019           108               2\n",
      "11                    2   2020            91               2\n",
      "12                    2   2021           106               2\n",
      "13                    2   2022           105               1\n",
      "14                    2   2023           105               1\n",
      "15                    3   2019           125               2\n",
      "16                    3   2020            88               2\n",
      "17                    3   2021           108               3\n",
      "18                    3   2022           112               3\n",
      "19                    3   2023           108               3\n",
      "20                    4   2019            84               2\n",
      "21                    4   2020            99               2\n",
      "22                    4   2021            92               3\n",
      "23                    4   2022            94               3\n",
      "24                    4   2023           100               3\n"
     ]
    },
    {
     "data": {
      "image/png": "[encoded data removed]",
      "text/plain": [
       "<Figure size 640x480 with 1 Axes>"
      ]
     },
     "metadata": {},
     "output_type": "display_data"
    }
   ],
   "source": [
    "if __name__ == \"__main__\":\n",
    "    ROOT = tk.Tk()\n",
    "    ROOT.withdraw()\n",
    "    # the input dialog\n",
    "    STUDENT_INP = simpledialog.askinteger(title=\"Students\", prompt=\"How many students need to be accommodated?:\")\n",
    "    FACULTY_INP = simpledialog.askinteger(title=\"Faculty\", prompt=\"How many Faculty members are available?:\")\n",
    "    students_data=generate_student_data(STUDENT_INP)  #2500\n",
    "    faculty_data=generate_faculty_data(FACULTY_INP) #200\n",
    "    room_data=generate_room_data(30)\n",
    "    full_path1,full_path2,full_path3,full_path4=writeRandomlyGeneratedData(students_data,faculty_data,room_data)\n",
    "    stu_data,fac_data,room_data=readDataFromFiles(full_path1,full_path2,full_path3)\n",
    "    stu_data,features=preProcessData(stu_data)\n",
    "    elbowMethod(features)\n",
    "    optimal_k = simpledialog.askinteger(title=\"Students\", prompt=\"What is the optimal value for k?:\")\n",
    "    features=makeOptimalClusters(features,optimal_k)\n",
    "    stu_data=assignClustersToStudents(stu_data,features)\n",
    "    stu_data=addCourseInfo(stu_data)\n",
    "    assigned_students_morning,assigned_students_afterNoon,assigned_students_evening=StudentsRoomAssignment(stu_data,room_data)\n",
    "    seatingPlanForStudents(assigned_students_evening,full_path4)\n",
    "    allocated_faculty=seatingPlanForFaculty(fac_data)\n",
    "    generateFacultyPlan(allocated_faculty)\n"
   ]
  },
  {
   "cell_type": "code",
   "execution_count": null,
   "id": "94359b7e",
   "metadata": {},
   "outputs": [],
   "source": []
  },
  {
   "cell_type": "code",
   "execution_count": null,
   "id": "3ad770dc",
   "metadata": {
    "scrolled": true
   },
   "outputs": [],
   "source": []
  },
  {
   "cell_type": "code",
   "execution_count": null,
   "id": "e5f8f897",
   "metadata": {},
   "outputs": [],
   "source": []
  },
  {
   "cell_type": "code",
   "execution_count": null,
   "id": "e0f80176",
   "metadata": {},
   "outputs": [],
   "source": []
  }
 ],
 "metadata": {
  "kernelspec": {
   "display_name": "Python 3 (ipykernel)",
   "language": "python",
   "name": "python3"
  },
  "language_info": {
   "codemirror_mode": {
    "name": "ipython",
    "version": 3
   },
   "file_extension": ".py",
   "mimetype": "text/x-python",
   "name": "python",
   "nbconvert_exporter": "python",
   "pygments_lexer": "ipython3",
   "version": "3.12.2"
  }
 },
 "nbformat": 4,
 "nbformat_minor": 5
}
